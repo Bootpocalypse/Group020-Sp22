{
 "cells": [
  {
   "cell_type": "markdown",
   "metadata": {},
   "source": [
    "# COGS 118A- Project Proposal"
   ]
  },
  {
   "cell_type": "markdown",
   "metadata": {},
   "source": [
    "# Names\n",
    "\n",
    "\n",
    "- Jota Yamaguchi(A15581388)\n",
    "- David Wang(A16035204)\n",
    "- Wei Zhong (A15568452)\n",
    "- Josie Li (A15924327)\n",
    "- Mary Kovic (A15292606)\n"
   ]
  },
  {
   "cell_type": "markdown",
   "metadata": {},
   "source": [
    "# Abstract \n",
    "Music has become significantly more accessible with the introduction of music applications such as Spotify and Soundcloud. We are no longer limited to listening to the radio or having to buy and use CDs. These applications not only allow us to listen to music wherever and whenever, but it also allows us to see measurements of certain audio features determined by the app. In this project, we will be predicting the genre of a song based on these features given by the Spotify music application. Our dataset from kaggle contains 6917 songs, each with 23 features (shape of 6917 x 23). Some of these features are simple characteristics such as artist or date of release. There are also more complicated features that spotify has found a way to measure such as ‘danceability’ or ‘liveliness’. Most importantly, the first column/feature contains the genre of each song. This is the feature that we will be predicting using the remaining features. Our success will be determined by the percentage of accuracy of our model and how well it can classify each song to its correct genre."
   ]
  },
  {
   "cell_type": "markdown",
   "metadata": {},
   "source": [
    "# Background\n",
    "\n",
    "Spotify has an enormous library of music, with more than 70 million tracks as of 2021 <a name=\"ref_1\"></a>[<sup>[1]</sup>](https://backlinko.com/spotify-users). With such an expansive array of songs for users to choose from, relevant recommendations are integral to enhancing user experience.\n",
    "\n",
    "Given features of a song, spotify users can be recommended music that more accurately represents their tastes. Furthermore, recommendations can include lesser known artists to curate a more diversified musical palette. Researchers at Spotify have been working at perfecting a recommendation system for users. They found that users were more satisfied when recommended music included less popular tracks or those that strayed from their usual genre <a name=\"ref_2\"></a>[<sup>[2]</sup>](https://research.atspotify.com/shifting-consumption-towards-diverse-content-via-reinforcement-learning/).\n",
    "\n",
    "There has been some success in predicting genre based on the waveform of the song<a name=\"ref_3\"></a>[<sup>[3]</sup>](https://towardsdatascience.com/predicting-music-genres-using-waveform-features-5080e788eb64), but we aim to predict genre based on the qualitative characteristics of a song. These characteristics include (but are not limited to) “Danceability”, “Acousticness”, and “Energy” <a name=\"ref_4\"></a>[<sup>[4]</sup>](https://medium.com/@boplantinga/what-do-spotifys-audio-features-tell-us-about-this-year-s-eurovision-song-contest-66ad188e112a).\n",
    "\n",
    "Songs in particular genres can be distinguished by a particular style. Songs in the same genre will bear similar characteristics, form, and/or style <a name=\"ref_5\"></a>[<sup>[5]</sup>](https://towardsdatascience.com/predicting-music-genres-using-waveform-features-5080e788eb64). Therefore, we hypothesize that the characteristics of a song (as indicated above) will predict the genre that the song falls under. Determining the genres of songs based on qualitative categories is a more intuitive approach to classification."
   ]
  },
  {
   "cell_type": "markdown",
   "metadata": {},
   "source": [
    "# Problem Statement\n",
    "\n",
    "In our project, we will try to predict the genres of songs based on the 23 features provided to us by the dataset. Given the fact that genres are discrete categories, we assume that a classification supervised-ML model will be our solution. The majority of features are represented as either a numerical value, a binomial distribution, or booleans. This allows us to represent our classification mathematically. Furthermore, we will use percentage of accuracy to measure our model success. If our model is successful, it should be replicable with any song on spotify given the 23 features. \n"
   ]
  },
  {
   "cell_type": "markdown",
   "metadata": {},
   "source": [
    "# Data\n",
    "\n",
    "Dataset #1\n",
    "- Name : Spotify Genre Audio Features \n",
    "- Link : https://www.kaggle.com/datasets/naoh1092/spotify-genre-audio-features\n",
    "- Size : 23 Variables and 6917 Observations\n",
    "- Description : Dataset collected form using Spotify’s public API and “The sound of Spotify” playlists, the dataset contains some critical variables that we will be utilizing in my classification model such as instrumentalness, acousticness, tempo, etc. These variables are represented numerically from 0 to 1. We will utilized these values to measure and train a classification model that will correctly predict a song’s genre given these values. \n",
    "- Cleaning : Need to delete columns with variables that we will not use in our classification model such as song id, cover link, title, etc. All variables values we will utilize is already in the format of floats and if there is straggling data, it will need to be cleaned along with tidying the dataset. \n"
   ]
  },
  {
   "cell_type": "markdown",
   "metadata": {},
   "source": [
    "# Proposed Solution\n",
    "\n",
    "A solution to the problem is that we will be using a supervised classification algorithm similar to training a neural network to correctly predict a song’s genre given it’s values from variables in the dataset that will help us classify a song’s genre with these aspects. Using randomly assigned data split into epochs, can do a 9:1 split to training/testing data. Through the training data, we will measure the similarities between a combination of variables values that a certain genre of music has between the observations. Through testing, the algorithm will attempt to correctly classify a song’s genre, given the variables values of the song (values of its acousticness, dancibility, tempo, instrumentalness, etc.). Lastly, we will percent accuracy of the training and testing data of our classification model to measure it’s success if it’s replication with any song on spotify. "
   ]
  },
  {
   "cell_type": "markdown",
   "metadata": {},
   "source": [
    "# Evaluation Metrics\n",
    "\n",
    "To quantify the performance of our models, the simplest solution is to use the provided genres of the albums in our dataset to score the performance on a percentile basis of how many of the albums the model classified correctly. A confusion matrix would also help visualize the accuracy of our model.\n",
    "Another method would be to use K-fold cross validation, shuffling then splitting the dataset into k groups, then iteratively using each group as a testing set to evaluate the temporary model fitted from the data from the other k-1 groups by way of the mean of performance estimates.\n"
   ]
  },
  {
   "cell_type": "markdown",
   "metadata": {},
   "source": [
    "# Ethics & Privacy"
   ]
  },
  {
   "cell_type": "markdown",
   "metadata": {},
   "source": [
    "There are very few Ethics and Privacy concerns with this project. The Spotify account, “The Sounds of Spotify” is where the dataset comes from. It is a verified public account by Spotify that showcases music from every genre, year, etc. The biggest concern is with Spotify’s audio features. We do not know how they came up with these features and their values. We also do not know if they are accurate. However, given the fact that all of the songs on the dataset are from Spotify, we can assume that the features of the songs are measured in the same manner. Therefore, we can say that by using these features we will be able to predict the genre of the song. \n"
   ]
  },
  {
   "cell_type": "markdown",
   "metadata": {},
   "source": [
    "# Team Expectations "
   ]
  },
  {
   "cell_type": "markdown",
   "metadata": {},
   "source": [
    "\n",
    "* *Be proactive about deadlines*\n",
    "* *Make sure you do your job that is assigned*\n",
    "* *communicate any trouble and ask for help if you need to*\n",
    "* *Follow deadlines, if there is a deadline work should be done before deadline*\n",
    "* *Try to be able to make time for meetings*\n",
    "* *Since we use discord, check discord messages often*\n",
    "* *Any conflict should be discussed among ourselves first*\n",
    "* *We will do majority vote when we have to make decisions*\n",
    "* *Each person should have equal amount of work*\n"
   ]
  },
  {
   "cell_type": "markdown",
   "metadata": {},
   "source": [
    "# Project Timeline Proposal"
   ]
  },
  {
   "cell_type": "markdown",
   "metadata": {},
   "source": [
    "\n",
    "\n",
    "| Meeting Date  | Meeting Time| Completed Before Meeting  | Discuss at Meeting |\n",
    "|---|---|---|---|\n",
    "| 4/16  |  9 PM |  Brainstorm topics/questions (all)  | Determine best form of communication; Discuss and decide on final project topic; discuss hypothesis; begin background research | \n",
    "| 4/20  |  9 PM |  Do background research on topic (Mary) | Discuss ideal dataset(s) and ethics; draft project proposal (everyone)| \n",
    "| 4/22  | 9 PM  | Edit, finalize, and submit proposal; Search for datasets (Jota)  | Discuss Wrangling and possible analytical approaches (Wei); Assign group members to lead each specific part (Josie)  |\n",
    "| 4/29  | 9 PM  | Import & Wrangle Data ,do some EDA (David), finish building model and training it | Review/Edit wrangling/EDA; Discuss Evaluation Plan   |\n",
    "| 5/6  | 9 PM | Finalize model training and testing; Start evaluate model (David) | Discuss/edit project code, results |\n",
    "| 5/13  | 9 PM  | Complete analysis; Draft results/conclusion/discussion (Josie)| Discuss/edit full project |\n",
    "| 6/8  | Before 11:59 PM  | NA | Turn in Final Project  |"
   ]
  },
  {
   "cell_type": "markdown",
   "metadata": {},
   "source": [
    "# Footnotes\n",
    "<a name=\"footnote1\"></a>1.[^](#1):Spotify User Stats (Updated Oct 2021).” Backlinko, 14 Oct. 2021, https://backlinko.com/spotify-users. <br>\n",
    "\n",
    "<a name=\"2\"></a>2.[^](#2)“Shifting Consumption towards Diverse Content via Reinforcement Learning.” Spotify Research, 30 Sept. 2021, https://research.atspotify.com/shifting-consumption-towards-diverse-content-via-reinforcement-learning/. <br>\n",
    "\n",
    "<a name=\"sotanote\"></a>3.[^](#3): Venturott, Pedro Henrique Gomes. “Predicting Music Genres Using Waveform Features.” Medium, Towards Data Science, 3 Mar. 2021, https://towardsdatascience.com/predicting-music-genres-using-waveform-features-5080e788eb64. <br>\n",
    "\n",
    "<a name=\"footnote1\"></a>4.[^](#4):Plantinga, Bo. “What Do Spotify's Audio Features Tell Us about This Year's Eurovision Song Contest? 🤔.” Medium, Medium, 29 Apr. 2018, https://medium.com/@boplantinga/what-do-spotifys-audio-features-tell-us-about-this-year-s-eurovision-song-contest-66ad188e112a.  <br>\n",
    "\n",
    "<a name=\"footnote1\"></a>5.[^](#5):Venturott, Pedro Henrique Gomes. “Predicting Music Genres Using Waveform Features.” Medium, Towards Data Science, 3 Mar. 2021, https://towardsdatascience.com/predicting-music-genres-using-waveform-features-5080e788eb64. <br>"
   ]
  }
 ],
 "metadata": {
  "kernelspec": {
   "display_name": "Python 3",
   "language": "python",
   "name": "python3"
  },
  "language_info": {
   "codemirror_mode": {
    "name": "ipython",
    "version": 3
   },
   "file_extension": ".py",
   "mimetype": "text/x-python",
   "name": "python",
   "nbconvert_exporter": "python",
   "pygments_lexer": "ipython3",
   "version": "3.7.1"
  }
 },
 "nbformat": 4,
 "nbformat_minor": 2
}
